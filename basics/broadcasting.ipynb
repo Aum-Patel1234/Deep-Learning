{
 "cells": [
  {
   "cell_type": "code",
   "execution_count": 1,
   "id": "87f0fb42",
   "metadata": {},
   "outputs": [],
   "source": [
    "import numpy as np"
   ]
  },
  {
   "cell_type": "code",
   "execution_count": 2,
   "id": "a6f2555c",
   "metadata": {},
   "outputs": [
    {
     "name": "stdout",
     "output_type": "stream",
     "text": [
      "[0.05740485 0.56453011 0.40115557 0.48333369 0.00113661]\n"
     ]
    }
   ],
   "source": [
    "a = np.random.rand(5)\n",
    "print(a)"
   ]
  },
  {
   "cell_type": "code",
   "execution_count": 3,
   "id": "b15c6502",
   "metadata": {},
   "outputs": [
    {
     "data": {
      "text/plain": [
       "(5,)"
      ]
     },
     "execution_count": 3,
     "metadata": {},
     "output_type": "execute_result"
    }
   ],
   "source": [
    "a.shape"
   ]
  },
  {
   "cell_type": "code",
   "execution_count": 4,
   "id": "165d60d3",
   "metadata": {},
   "outputs": [
    {
     "name": "stdout",
     "output_type": "stream",
     "text": [
      "[0.05740485 0.56453011 0.40115557 0.48333369 0.00113661]\n"
     ]
    }
   ],
   "source": [
    "print(a.T)"
   ]
  },
  {
   "cell_type": "code",
   "execution_count": 5,
   "id": "a5c52956",
   "metadata": {},
   "outputs": [
    {
     "name": "stdout",
     "output_type": "stream",
     "text": [
      "0.7165281076588883\n"
     ]
    }
   ],
   "source": [
    "print(a @ a.T)"
   ]
  },
  {
   "cell_type": "markdown",
   "id": "c1e4bc66",
   "metadata": {},
   "source": [
    "# NumPy Broadcasting & 1D Array Pitfalls\n",
    "\n",
    "- A 1D NumPy array (shape `(n,)`) is **not** a row or column vector.\n",
    "- `.T` has no effect on a 1D array → shape stays `(n,)`.\n",
    "- The operation `a @ a.T` with shape `(n,)` is just a **dot product**, returning a scalar — not a matrix.\n",
    "- For broadcasting to work as expected (row vs. column), reshape explicitly:\n",
    "  - `(n, 1)` → column vector  \n",
    "  - `(1, n)` → row vector\n",
    "- Only after reshaping can you properly perform outer products `(n,1) @ (1,n)` or inner products `(1,n) @ (n,1)`.\n",
    "- **Takeaway**: Always reshape `(n,)` arrays when you need clear matrix behavior in broadcasting."
   ]
  },
  {
   "cell_type": "code",
   "execution_count": 6,
   "id": "e059e488",
   "metadata": {},
   "outputs": [
    {
     "name": "stdout",
     "output_type": "stream",
     "text": [
      "[[0.5586829 ]\n",
      " [0.99103463]\n",
      " [0.92434253]\n",
      " [0.74025868]\n",
      " [0.22987447]]\n"
     ]
    }
   ],
   "source": [
    "b = np.random.rand(5,1)\n",
    "print(b)"
   ]
  },
  {
   "cell_type": "code",
   "execution_count": 7,
   "id": "1e1339cc",
   "metadata": {},
   "outputs": [
    {
     "name": "stdout",
     "output_type": "stream",
     "text": [
      "[[0.5586829  0.99103463 0.92434253 0.74025868 0.22987447]]\n"
     ]
    }
   ],
   "source": [
    "print(b.T)"
   ]
  },
  {
   "cell_type": "code",
   "execution_count": 8,
   "id": "bf00cfbd",
   "metadata": {},
   "outputs": [
    {
     "name": "stdout",
     "output_type": "stream",
     "text": [
      "[[0.31212659 0.5536741  0.51641437 0.41356987 0.12842693]\n",
      " [0.5536741  0.98214964 0.91605546 0.73362199 0.22781356]\n",
      " [0.51641437 0.91605546 0.85440912 0.68425259 0.21248275]\n",
      " [0.41356987 0.73362199 0.68425259 0.54798292 0.17016657]\n",
      " [0.12842693 0.22781356 0.21248275 0.17016657 0.05284227]]\n"
     ]
    }
   ],
   "source": [
    "print(b@b.T)"
   ]
  },
  {
   "cell_type": "code",
   "execution_count": 9,
   "id": "1eb48dad",
   "metadata": {},
   "outputs": [
    {
     "name": "stdout",
     "output_type": "stream",
     "text": [
      "[[2.74951053]]\n"
     ]
    }
   ],
   "source": [
    "print(b.T@b)"
   ]
  },
  {
   "cell_type": "markdown",
   "id": "e53b62d4",
   "metadata": {},
   "source": [
    "print(b@b.T)"
   ]
  },
  {
   "cell_type": "code",
   "execution_count": 10,
   "id": "83268388",
   "metadata": {},
   "outputs": [
    {
     "ename": "AssertionError",
     "evalue": "",
     "output_type": "error",
     "traceback": [
      "\u001b[0;31m---------------------------------------------------------------------------\u001b[0m",
      "\u001b[0;31mAssertionError\u001b[0m                            Traceback (most recent call last)",
      "Cell \u001b[0;32mIn[10], line 2\u001b[0m\n\u001b[1;32m      1\u001b[0m \u001b[38;5;28;01massert\u001b[39;00m(b\u001b[38;5;241m.\u001b[39mshape \u001b[38;5;241m==\u001b[39m (\u001b[38;5;241m5\u001b[39m,\u001b[38;5;241m1\u001b[39m))\n\u001b[0;32m----> 2\u001b[0m \u001b[38;5;28;01massert\u001b[39;00m(a\u001b[38;5;241m.\u001b[39mshape \u001b[38;5;241m==\u001b[39m (\u001b[38;5;241m5\u001b[39m,\u001b[38;5;241m1\u001b[39m))\n",
      "\u001b[0;31mAssertionError\u001b[0m: "
     ]
    }
   ],
   "source": [
    "assert(b.shape == (5,1))\n",
    "assert(a.shape == (5,1))"
   ]
  }
 ],
 "metadata": {
  "kernelspec": {
   "display_name": "ml",
   "language": "python",
   "name": "python3"
  },
  "language_info": {
   "codemirror_mode": {
    "name": "ipython",
    "version": 3
   },
   "file_extension": ".py",
   "mimetype": "text/x-python",
   "name": "python",
   "nbconvert_exporter": "python",
   "pygments_lexer": "ipython3",
   "version": "3.12.2"
  }
 },
 "nbformat": 4,
 "nbformat_minor": 5
}
